{
 "cells": [
  {
   "cell_type": "markdown",
   "metadata": {},
   "source": [
    "# Install python dependencies"
   ]
  },
  {
   "cell_type": "code",
   "execution_count": null,
   "metadata": {},
   "outputs": [],
   "source": [
    "pip install --upgrade pip"
   ]
  },
  {
   "cell_type": "code",
   "execution_count": null,
   "metadata": {},
   "outputs": [],
   "source": [
    "pip install pandas scikit-learn Keras tensorflow"
   ]
  },
  {
   "cell_type": "code",
   "execution_count": null,
   "metadata": {},
   "outputs": [],
   "source": [
    "pip install tensorflow==2.2.0"
   ]
  },
  {
   "cell_type": "markdown",
   "metadata": {},
   "source": [
    "# Imports dependencies."
   ]
  },
  {
   "cell_type": "code",
   "execution_count": null,
   "metadata": {},
   "outputs": [],
   "source": [
    "import pandas as pd\n",
    "from keras.models import Sequential\n",
    "from keras.layers import Dense, Dropout\n",
    "from keras.optimizers import Adam\n",
    "from keras.wrappers.scikit_learn import KerasClassifier\n",
    "from sklearn.preprocessing import LabelEncoder, OneHotEncoder\n",
    "from sklearn.compose import ColumnTransformer\n",
    "from sklearn.model_selection import cross_val_score"
   ]
  },
  {
   "cell_type": "markdown",
   "metadata": {},
   "source": [
    "# Load dataset and preprocessing of inconclusive values"
   ]
  },
  {
   "cell_type": "code",
   "execution_count": null,
   "metadata": {},
   "outputs": [],
   "source": [
    "data = pd.read_csv(\"dataset/automobile_data.csv\", encoding = 'ISO-8859-1')\n",
    "data.head()"
   ]
  },
  {
   "cell_type": "code",
   "execution_count": null,
   "metadata": {},
   "outputs": [],
   "source": [
    "data = data.drop('dateCrawled', axis = 1)\n",
    "data = data.drop('dateCreated', axis = 1)\n",
    "data = data.drop('nrOfPictures', axis = 1)\n",
    "data = data.drop('postalCode', axis = 1)\n",
    "data = data.drop('lastSeen', axis = 1)\n",
    "data = data.drop('name', axis = 1)\n",
    "data = data.drop('seller', axis = 1)\n",
    "data = data.drop('offerType', axis = 1)\n",
    "\n",
    "data = data[data.price > 10]\n",
    "data = data.loc[data.price < 350000]\n",
    "\n",
    "valores = {'vehicleType': 'limousine', 'gearbox': 'manuell',\n",
    "           'model': 'golf', 'fuelType': 'benzin',\n",
    "           'notRepairedDamage': 'nein'}\n",
    "data = data.fillna(value = valores)\n",
    "data.head()"
   ]
  },
  {
   "cell_type": "code",
   "execution_count": null,
   "metadata": {},
   "outputs": [],
   "source": [
    "data_entry = data.iloc[:, 1:13].values\n",
    "data_class = data.iloc[:, 0].values  # Real price"
   ]
  },
  {
   "cell_type": "markdown",
   "metadata": {},
   "source": [
    "# Transforming labels into numerical values (Standardization of values)"
   ]
  },
  {
   "cell_type": "code",
   "execution_count": null,
   "metadata": {},
   "outputs": [],
   "source": [
    "label_encoder = LabelEncoder()\n",
    "\n",
    "data_entry[:, 0] = label_encoder.fit_transform(data_entry[:, 0])\n",
    "data_entry[:, 1] = label_encoder.fit_transform(data_entry[:, 1])\n",
    "data_entry[:, 2] = label_encoder.fit_transform(data_entry[:, 2])\n",
    "data_entry[:, 3] = label_encoder.fit_transform(data_entry[:, 3])\n",
    "data_entry[:, 4] = label_encoder.fit_transform(data_entry[:, 4])\n",
    "data_entry[:, 5] = label_encoder.fit_transform(data_entry[:, 5])\n",
    "data_entry[:, 6] = label_encoder.fit_transform(data_entry[:, 6])\n",
    "data_entry[:, 7] = label_encoder.fit_transform(data_entry[:, 7])\n",
    "data_entry[:, 8] = label_encoder.fit_transform(data_entry[:, 8])\n",
    "data_entry[:, 9] = label_encoder.fit_transform(data_entry[:, 9])\n",
    "data_entry[:, 10] = label_encoder.fit_transform(data_entry[:, 10])\n",
    "\n",
    "data_entry[0:5]"
   ]
  },
  {
   "cell_type": "code",
   "execution_count": null,
   "metadata": {},
   "outputs": [],
   "source": [
    "len(data_entry[0])"
   ]
  },
  {
   "cell_type": "code",
   "execution_count": null,
   "metadata": {},
   "outputs": [],
   "source": [
    "one_hot_encoder = ColumnTransformer(transformers=[(\"OneHot\", OneHotEncoder(), [0, 1, 3, 5, 8, 9, 10])], remainder='passthrough')\n",
    "data_entry = one_hot_encoder.fit_transform(data_entry).toarray()"
   ]
  },
  {
   "cell_type": "code",
   "execution_count": null,
   "metadata": {},
   "outputs": [],
   "source": [
    "len(data_entry[0])"
   ]
  },
  {
   "cell_type": "markdown",
   "metadata": {},
   "source": [
    "# Model configuration for training"
   ]
  },
  {
   "cell_type": "code",
   "execution_count": null,
   "metadata": {},
   "outputs": [],
   "source": [
    "def create_rede():\n",
    "    # Sequential model.\n",
    "    _classifier = Sequential()\n",
    "    # Connected NN layer (units=158 -> (316 +1)/2 )\n",
    "    _classifier.add(Dense(units=158, activation='relu', input_dim=316))\n",
    "    _classifier.add(Dense(units=158, activation='relu'))\n",
    "    _classifier.add(Dense(units=1, activation='linear'))\n",
    "    # Configures the model for training\n",
    "    # mean_absolute_error = 'Computes the mean of absolute difference between labels and predictions'\n",
    "    _classifier.compile(optimizer='adam', loss='mean_absolute_error', metrics=['mean_absolute_error'])\n",
    "    return _classifier"
   ]
  },
  {
   "cell_type": "markdown",
   "metadata": {},
   "source": [
    "# Implementation of the scikit-learn classifier API for Keras (cross_val_score)"
   ]
  },
  {
   "cell_type": "code",
   "execution_count": null,
   "metadata": {},
   "outputs": [],
   "source": [
    "classifier = KerasClassifier(build_fn=create_rede, epochs=100, batch_size=300)"
   ]
  },
  {
   "cell_type": "code",
   "execution_count": null,
   "metadata": {},
   "outputs": [],
   "source": [
    "# cv -> cross-validation\n",
    "result = cross_val_score(estimator=classifier, X=data_entry, y=data_class, cv=10, scoring='neg_mean_absolute_error')"
   ]
  },
  {
   "cell_type": "code",
   "execution_count": 43,
   "metadata": {},
   "outputs": [],
   "source": [
    "media = result.mean()\n",
    "standard_deviation = result.std()"
   ]
  },
  {
   "cell_type": "code",
   "execution_count": 44,
   "metadata": {},
   "outputs": [
    {
     "name": "stdout",
     "output_type": "stream",
     "text": [
      "-5904.834892506982\n",
      "44.18171054958715\n"
     ]
    }
   ],
   "source": [
    "print(media)\n",
    "print(standard_deviation)"
   ]
  },
  {
   "cell_type": "code",
   "execution_count": 45,
   "metadata": {},
   "outputs": [
    {
     "name": "stdout",
     "output_type": "stream",
     "text": [
      "[-5896.47116616 -5947.49149712 -5957.66984887 -5951.3539759\n",
      " -5905.29146372 -5932.56054997 -5900.03913273 -5901.90959949\n",
      " -5827.85298784 -5827.70870328]\n"
     ]
    }
   ],
   "source": [
    "print(result)"
   ]
  }
 ],
 "metadata": {
  "kernelspec": {
   "display_name": "Python 3",
   "language": "python",
   "name": "python3"
  },
  "language_info": {
   "codemirror_mode": {
    "name": "ipython",
    "version": 3
   },
   "file_extension": ".py",
   "mimetype": "text/x-python",
   "name": "python",
   "nbconvert_exporter": "python",
   "pygments_lexer": "ipython3",
   "version": "3.6.9"
  }
 },
 "nbformat": 4,
 "nbformat_minor": 4
}
