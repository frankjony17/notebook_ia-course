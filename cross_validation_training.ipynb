{
 "cells": [
  {
   "cell_type": "markdown",
   "metadata": {},
   "source": [
    "# Install python dependencies"
   ]
  },
  {
   "cell_type": "code",
   "execution_count": 2,
   "metadata": {},
   "outputs": [
    {
     "name": "stdout",
     "output_type": "stream",
     "text": [
      "Requirement already satisfied: pip in /home/frankjony17/Projects/venvs/ia-course/lib/python3.6/site-packages (20.3.3)\n",
      "Note: you may need to restart the kernel to use updated packages.\n"
     ]
    }
   ],
   "source": [
    "pip install --upgrade pip"
   ]
  },
  {
   "cell_type": "code",
   "execution_count": null,
   "metadata": {},
   "outputs": [],
   "source": [
    "pip install pandas scikit-learn Keras tensorflow"
   ]
  },
  {
   "cell_type": "code",
   "execution_count": null,
   "metadata": {},
   "outputs": [],
   "source": [
    "pip install tensorflow==2.2.0"
   ]
  },
  {
   "cell_type": "markdown",
   "metadata": {},
   "source": [
    "# Imports dependencies."
   ]
  },
  {
   "cell_type": "code",
   "execution_count": 3,
   "metadata": {},
   "outputs": [
    {
     "name": "stderr",
     "output_type": "stream",
     "text": [
      "/home/frankjony17/Projects/venvs/ia-course/lib/python3.6/site-packages/pandas/compat/__init__.py:120: UserWarning: Could not import the lzma module. Your installed Python is incomplete. Attempting to use lzma compression will result in a RuntimeError.\n",
      "  warnings.warn(msg)\n"
     ]
    }
   ],
   "source": [
    "import pandas as pd\n",
    "from keras.models import Sequential\n",
    "from keras.layers import Dense, Dropout\n",
    "from keras.optimizers import Adam\n",
    "from keras.wrappers.scikit_learn import KerasClassifier\n",
    "from sklearn.model_selection import cross_val_score"
   ]
  },
  {
   "cell_type": "markdown",
   "metadata": {},
   "source": [
    "# Load datasets -> Dados e Clases"
   ]
  },
  {
   "cell_type": "code",
   "execution_count": 4,
   "metadata": {},
   "outputs": [],
   "source": [
    "data_entry = pd.read_csv(\"dataset/entry_breast.csv\")\n",
    "data_class = pd.read_csv(\"dataset/exits_breast.csv\")"
   ]
  },
  {
   "cell_type": "markdown",
   "metadata": {},
   "source": [
    "# Configures the model for training"
   ]
  },
  {
   "cell_type": "code",
   "execution_count": 9,
   "metadata": {},
   "outputs": [],
   "source": [
    "def create_rede():\n",
    "    _classifier = Sequential()  # Sequential model.\n",
    "    # Connected NN layer (Input Layer)\n",
    "    _classifier.add(Dense(units=16, activation='relu', kernel_initializer='random_uniform', input_dim=30))\n",
    "    # Dropout\n",
    "    _classifier.add(Dropout(0.2))\n",
    "    # Hidden Layer\n",
    "    _classifier.add(Dense(units=16, activation='relu', kernel_initializer='random_uniform'))\n",
    "    # Dropout\n",
    "    _classifier.add(Dropout(0.2))\n",
    "    # Hidden Layer\n",
    "    _classifier.add(Dense(units=16, activation='relu', kernel_initializer='random_uniform'))\n",
    "    # Output Layer\n",
    "    _classifier.add(Dense(units=1, activation='sigmoid'))\n",
    "    # \n",
    "#     adam = Adam(lr=0.001, decay=0.0001, clipvalue=0.5)\n",
    "    # Configures the model for training\n",
    "    _classifier.compile(optimizer='adam', loss='binary_crossentropy', metrics=['binary_accuracy'])\n",
    "    return _classifier"
   ]
  },
  {
   "cell_type": "markdown",
   "metadata": {},
   "source": [
    "# Implementation of the scikit-learn classifier API for Keras"
   ]
  },
  {
   "cell_type": "code",
   "execution_count": 10,
   "metadata": {},
   "outputs": [],
   "source": [
    "classifier = KerasClassifier(build_fn=create_rede, epochs=120, batch_size=20)"
   ]
  },
  {
   "cell_type": "code",
   "execution_count": null,
   "metadata": {
    "scrolled": true
   },
   "outputs": [],
   "source": [
    "# cv -> cross-validation\n",
    "result = cross_val_score(estimator=classifier, X=data_entry, y=data_class, cv=10, scoring='accuracy')"
   ]
  },
  {
   "cell_type": "code",
   "execution_count": 16,
   "metadata": {},
   "outputs": [],
   "source": [
    "media = result.mean()\n",
    "standard_deviation = result.std()"
   ]
  },
  {
   "cell_type": "code",
   "execution_count": 17,
   "metadata": {},
   "outputs": [
    {
     "name": "stdout",
     "output_type": "stream",
     "text": [
      "0.894454887218045\n",
      "0.06906746646732673\n"
     ]
    }
   ],
   "source": [
    "print(media)\n",
    "print(standard_deviation)"
   ]
  },
  {
   "cell_type": "code",
   "execution_count": 18,
   "metadata": {},
   "outputs": [
    {
     "name": "stdout",
     "output_type": "stream",
     "text": [
      "[0.73684211 0.87719298 0.94736842 0.84210526 0.96491228 0.94736842\n",
      " 0.89473684 0.96491228 0.92982456 0.83928571]\n"
     ]
    }
   ],
   "source": [
    "print(result)"
   ]
  },
  {
   "cell_type": "code",
   "execution_count": null,
   "metadata": {},
   "outputs": [],
   "source": [
    "[0.78947368 0.87719298 0.89473684 0.8245614  0.87719298 0.89473684 0.92982456 0.85964912 0.87719298 0.96428571] # widtout Dropout\n",
    "[0.75438596 0.9122807  0.98245614 0.89473684 0.94736842 0.94736842 0.96491228 0.94736842 0.89473684 0.96428571] # widt Dropout\n",
    "\n",
    "[0.8245614  0.9122807  0.94736842 0.85964912 0.92982456 0.96491228 0.96491228 0.96491228 0.92982456 0.80357143] 0.91 0.05\n",
    "[0.8245614  0.9122807  0.94736842 0.84210526 0.89473684 0.96491228 0.92982456 0.96491228 0.89473684 0.96428571] 0.91 0.04"
   ]
  }
 ],
 "metadata": {
  "kernelspec": {
   "display_name": "Python 3",
   "language": "python",
   "name": "python3"
  },
  "language_info": {
   "codemirror_mode": {
    "name": "ipython",
    "version": 3
   },
   "file_extension": ".py",
   "mimetype": "text/x-python",
   "name": "python",
   "nbconvert_exporter": "python",
   "pygments_lexer": "ipython3",
   "version": "3.6.9"
  }
 },
 "nbformat": 4,
 "nbformat_minor": 4
}
