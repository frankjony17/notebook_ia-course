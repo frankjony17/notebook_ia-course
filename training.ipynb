{
 "cells": [
  {
   "cell_type": "code",
   "execution_count": null,
   "metadata": {},
   "outputs": [],
   "source": [
    "pip install --upgrade pip"
   ]
  },
  {
   "cell_type": "code",
   "execution_count": null,
   "metadata": {
    "scrolled": true
   },
   "outputs": [],
   "source": [
    "pip install pandas scikit-learn Keras tensorflow matplotlib numpy"
   ]
  },
  {
   "cell_type": "code",
   "execution_count": null,
   "metadata": {
    "scrolled": true
   },
   "outputs": [],
   "source": [
    "pip install tensorflow==2.2.0"
   ]
  },
  {
   "cell_type": "code",
   "execution_count": null,
   "metadata": {},
   "outputs": [],
   "source": [
    "pip install seaborn"
   ]
  },
  {
   "cell_type": "markdown",
   "metadata": {},
   "source": [
    "# Import python dependencies."
   ]
  },
  {
   "cell_type": "code",
   "execution_count": 112,
   "metadata": {},
   "outputs": [],
   "source": [
    "import pandas as pd\n",
    "import itertools\n",
    "from keras.models import Sequential\n",
    "from keras.layers import Dense\n",
    "from sklearn.model_selection import train_test_split\n",
    "from sklearn.metrics import classification_report\n",
    "from sklearn.metrics import confusion_matrix\n",
    "# Visualization \n",
    "import matplotlib.pyplot as plt\n",
    "import seaborn as sns"
   ]
  },
  {
   "cell_type": "markdown",
   "metadata": {},
   "source": [
    "# Load dataset and process data."
   ]
  },
  {
   "cell_type": "code",
   "execution_count": 43,
   "metadata": {},
   "outputs": [],
   "source": [
    "data = pd.read_csv(\"dataset/heart.csv\")"
   ]
  },
  {
   "cell_type": "code",
   "execution_count": 18,
   "metadata": {},
   "outputs": [
    {
     "data": {
      "text/plain": [
       "age           int64\n",
       "sex           int64\n",
       "cp            int64\n",
       "trestbps      int64\n",
       "chol          int64\n",
       "fbs           int64\n",
       "restecg       int64\n",
       "thalach       int64\n",
       "exang         int64\n",
       "oldpeak     float64\n",
       "slope         int64\n",
       "ca            int64\n",
       "thal          int64\n",
       "target        int64\n",
       "dtype: object"
      ]
     },
     "execution_count": 18,
     "metadata": {},
     "output_type": "execute_result"
    }
   ],
   "source": [
    "# Check tdata types.\n",
    "data.dtypes"
   ]
  },
  {
   "cell_type": "code",
   "execution_count": 19,
   "metadata": {},
   "outputs": [
    {
     "data": {
      "text/plain": [
       "age         0\n",
       "sex         0\n",
       "cp          0\n",
       "trestbps    0\n",
       "chol        0\n",
       "fbs         0\n",
       "restecg     0\n",
       "thalach     0\n",
       "exang       0\n",
       "oldpeak     0\n",
       "slope       0\n",
       "ca          0\n",
       "thal        0\n",
       "target      0\n",
       "dtype: int64"
      ]
     },
     "execution_count": 19,
     "metadata": {},
     "output_type": "execute_result"
    }
   ],
   "source": [
    "# Check missing values in heart disease datase.\n",
    "data.isnull().sum()"
   ]
  },
  {
   "cell_type": "code",
   "execution_count": 32,
   "metadata": {},
   "outputs": [
    {
     "data": {
      "text/plain": [
       "<AxesSubplot:xlabel='target', ylabel='count'>"
      ]
     },
     "execution_count": 32,
     "metadata": {},
     "output_type": "execute_result"
    },
    {
     "data": {
      "image/png": "[encoded data removed]",
      "text/plain": [
       "<Figure size 432x288 with 1 Axes>"
      ]
     },
     "metadata": {},
     "output_type": "display_data"
    }
   ],
   "source": [
    "# Visualize the count of survivors.\n",
    "sns.countplot(x='target', data=data)"
   ]
  },
  {
   "cell_type": "code",
   "execution_count": 33,
   "metadata": {},
   "outputs": [
    {
     "data": {
      "text/plain": [
       "<seaborn.axisgrid.FacetGrid at 0x7f637068c978>"
      ]
     },
     "execution_count": 33,
     "metadata": {},
     "output_type": "execute_result"
    },
    {
     "data": {
      "image/png": "[encoded data removed]",
      "text/plain": [
       "<Figure size 360x360 with 1 Axes>"
      ]
     },
     "metadata": {},
     "output_type": "display_data"
    }
   ],
   "source": [
    "# Exploration of Age.\n",
    "sns.catplot(x='target', y='age', data=data, kind='box')"
   ]
  },
  {
   "cell_type": "code",
   "execution_count": 39,
   "metadata": {},
   "outputs": [
    {
     "data": {
      "text/plain": [
       "<seaborn.axisgrid.FacetGrid at 0x7f63708c7080>"
      ]
     },
     "execution_count": 39,
     "metadata": {},
     "output_type": "execute_result"
    },
    {
     "data": {
      "image/png": "[encoded data removed]",
      "text/plain": [
       "<Figure size 432x216 with 2 Axes>"
      ]
     },
     "metadata": {},
     "output_type": "display_data"
    }
   ],
   "source": [
    "# Exploration of fasting blood sugar.\n",
    "grid = sns.FacetGrid(data=data, col='fbs')\n",
    "grid.map(plt.hist, 'target', bins=2)"
   ]
  },
  {
   "cell_type": "code",
   "execution_count": 40,
   "metadata": {},
   "outputs": [
    {
     "name": "stdout",
     "output_type": "stream",
     "text": [
      "<class 'pandas.core.frame.DataFrame'>\n",
      "RangeIndex: 303 entries, 0 to 302\n",
      "Data columns (total 14 columns):\n",
      " #   Column    Non-Null Count  Dtype  \n",
      "---  ------    --------------  -----  \n",
      " 0   age       303 non-null    int64  \n",
      " 1   sex       303 non-null    int64  \n",
      " 2   cp        303 non-null    int64  \n",
      " 3   trestbps  303 non-null    int64  \n",
      " 4   chol      303 non-null    int64  \n",
      " 5   fbs       303 non-null    int64  \n",
      " 6   restecg   303 non-null    int64  \n",
      " 7   thalach   303 non-null    int64  \n",
      " 8   exang     303 non-null    int64  \n",
      " 9   oldpeak   303 non-null    float64\n",
      " 10  slope     303 non-null    int64  \n",
      " 11  ca        303 non-null    int64  \n",
      " 12  thal      303 non-null    int64  \n",
      " 13  target    303 non-null    int64  \n",
      "dtypes: float64(1), int64(13)\n",
      "memory usage: 33.3 KB\n"
     ]
    }
   ],
   "source": [
    "data.info()"
   ]
  },
  {
   "cell_type": "code",
   "execution_count": 46,
   "metadata": {},
   "outputs": [],
   "source": [
    "# This is the variable we want our machine learning model to predict based off all the others.\n",
    "# 1 = Yes. Has heart disease 0 = No. Does not have heart disease.\n",
    "x=data.iloc[:, 0:13]\n",
    "y=data['target']"
   ]
  },
  {
   "cell_type": "code",
   "execution_count": 47,
   "metadata": {},
   "outputs": [
    {
     "name": "stdout",
     "output_type": "stream",
     "text": [
      "<class 'pandas.core.frame.DataFrame'>\n",
      "RangeIndex: 303 entries, 0 to 302\n",
      "Data columns (total 13 columns):\n",
      " #   Column    Non-Null Count  Dtype  \n",
      "---  ------    --------------  -----  \n",
      " 0   age       303 non-null    int64  \n",
      " 1   sex       303 non-null    int64  \n",
      " 2   cp        303 non-null    int64  \n",
      " 3   trestbps  303 non-null    int64  \n",
      " 4   chol      303 non-null    int64  \n",
      " 5   fbs       303 non-null    int64  \n",
      " 6   restecg   303 non-null    int64  \n",
      " 7   thalach   303 non-null    int64  \n",
      " 8   exang     303 non-null    int64  \n",
      " 9   oldpeak   303 non-null    float64\n",
      " 10  slope     303 non-null    int64  \n",
      " 11  ca        303 non-null    int64  \n",
      " 12  thal      303 non-null    int64  \n",
      "dtypes: float64(1), int64(12)\n",
      "memory usage: 30.9 KB\n"
     ]
    }
   ],
   "source": [
    "x.info()"
   ]
  },
  {
   "cell_type": "markdown",
   "metadata": {},
   "source": [
    "y[0:5]"
   ]
  },
  {
   "cell_type": "markdown",
   "metadata": {},
   "source": [
    "# Split dataset into random train and test subsets"
   ]
  },
  {
   "cell_type": "code",
   "execution_count": 54,
   "metadata": {},
   "outputs": [],
   "source": [
    "x_train, x_test, y_train, y_test = train_test_split(x, y, test_size=0.25)"
   ]
  },
  {
   "cell_type": "markdown",
   "metadata": {},
   "source": [
    "# Configures the model for training."
   ]
  },
  {
   "cell_type": "code",
   "execution_count": 93,
   "metadata": {},
   "outputs": [],
   "source": [
    "# Sequential model.\n",
    "classifier = Sequential()\n",
    "# Connected NN layer\n",
    "classifier.add(Dense(units=16, activation='relu', kernel_initializer='random_uniform', input_dim=13))\n",
    "classifier.add(Dense(units=16, activation='relu', kernel_initializer='random_uniform'))\n",
    "classifier.add(Dense(units=1, activation='sigmoid'))\n",
    "# Configures the model for training\n",
    "classifier.compile(optimizer='adam', loss='binary_crossentropy', metrics=['binary_accuracy'])"
   ]
  },
  {
   "cell_type": "markdown",
   "metadata": {},
   "source": [
    "# Trains the model for a fixed number of epochs."
   ]
  },
  {
   "cell_type": "code",
   "execution_count": 104,
   "metadata": {
    "scrolled": true
   },
   "outputs": [
    {
     "name": "stdout",
     "output_type": "stream",
     "text": [
      "Epoch 1/120\n",
      "12/12 [==============================] - 0s 860us/step - loss: 0.3192 - binary_accuracy: 0.8722\n",
      "Epoch 2/120\n",
      "12/12 [==============================] - 0s 1ms/step - loss: 0.3237 - binary_accuracy: 0.8590\n",
      "Epoch 3/120\n",
      "12/12 [==============================] - 0s 951us/step - loss: 0.3351 - binary_accuracy: 0.8458\n",
      "Epoch 4/120\n",
      "12/12 [==============================] - 0s 779us/step - loss: 0.3358 - binary_accuracy: 0.8546\n",
      "Epoch 5/120\n",
      "12/12 [==============================] - 0s 955us/step - loss: 0.3190 - binary_accuracy: 0.8502\n",
      "Epoch 6/120\n",
      "12/12 [==============================] - 0s 919us/step - loss: 0.3256 - binary_accuracy: 0.8590\n",
      "Epoch 7/120\n",
      "12/12 [==============================] - 0s 921us/step - loss: 0.3166 - binary_accuracy: 0.8590\n",
      "Epoch 8/120\n",
      "12/12 [==============================] - 0s 819us/step - loss: 0.3175 - binary_accuracy: 0.8546\n",
      "Epoch 9/120\n",
      "12/12 [==============================] - 0s 742us/step - loss: 0.3313 - binary_accuracy: 0.8678\n",
      "Epoch 10/120\n",
      "12/12 [==============================] - 0s 809us/step - loss: 0.3199 - binary_accuracy: 0.8722\n",
      "Epoch 11/120\n",
      "12/12 [==============================] - 0s 807us/step - loss: 0.3365 - binary_accuracy: 0.8238\n",
      "Epoch 12/120\n",
      "12/12 [==============================] - 0s 757us/step - loss: 0.3449 - binary_accuracy: 0.8590\n",
      "Epoch 13/120\n",
      "12/12 [==============================] - 0s 918us/step - loss: 0.3299 - binary_accuracy: 0.8590\n",
      "Epoch 14/120\n",
      "12/12 [==============================] - 0s 865us/step - loss: 0.3508 - binary_accuracy: 0.8502\n",
      "Epoch 15/120\n",
      "12/12 [==============================] - 0s 794us/step - loss: 0.3275 - binary_accuracy: 0.8634\n",
      "Epoch 16/120\n",
      "12/12 [==============================] - 0s 1ms/step - loss: 0.3190 - binary_accuracy: 0.8634\n",
      "Epoch 17/120\n",
      "12/12 [==============================] - 0s 1ms/step - loss: 0.3188 - binary_accuracy: 0.8722\n",
      "Epoch 18/120\n",
      "12/12 [==============================] - 0s 966us/step - loss: 0.3159 - binary_accuracy: 0.8634\n",
      "Epoch 19/120\n",
      "12/12 [==============================] - 0s 991us/step - loss: 0.3249 - binary_accuracy: 0.8414\n",
      "Epoch 20/120\n",
      "12/12 [==============================] - 0s 813us/step - loss: 0.3271 - binary_accuracy: 0.8326\n",
      "Epoch 21/120\n",
      "12/12 [==============================] - 0s 1ms/step - loss: 0.3213 - binary_accuracy: 0.8634\n",
      "Epoch 22/120\n",
      "12/12 [==============================] - 0s 979us/step - loss: 0.3313 - binary_accuracy: 0.8502\n",
      "Epoch 23/120\n",
      "12/12 [==============================] - 0s 976us/step - loss: 0.3368 - binary_accuracy: 0.8590\n",
      "Epoch 24/120\n",
      "12/12 [==============================] - 0s 991us/step - loss: 0.3340 - binary_accuracy: 0.8546\n",
      "Epoch 25/120\n",
      "12/12 [==============================] - 0s 888us/step - loss: 0.3288 - binary_accuracy: 0.8590\n",
      "Epoch 26/120\n",
      "12/12 [==============================] - 0s 966us/step - loss: 0.3235 - binary_accuracy: 0.8590\n",
      "Epoch 27/120\n",
      "12/12 [==============================] - 0s 892us/step - loss: 0.3237 - binary_accuracy: 0.8678\n",
      "Epoch 28/120\n",
      "12/12 [==============================] - 0s 996us/step - loss: 0.3202 - binary_accuracy: 0.8590\n",
      "Epoch 29/120\n",
      "12/12 [==============================] - 0s 921us/step - loss: 0.3218 - binary_accuracy: 0.8502\n",
      "Epoch 30/120\n",
      "12/12 [==============================] - 0s 995us/step - loss: 0.3278 - binary_accuracy: 0.8590\n",
      "Epoch 31/120\n",
      "12/12 [==============================] - 0s 949us/step - loss: 0.3525 - binary_accuracy: 0.8546\n",
      "Epoch 32/120\n",
      "12/12 [==============================] - 0s 973us/step - loss: 0.3627 - binary_accuracy: 0.8590\n",
      "Epoch 33/120\n",
      "12/12 [==============================] - 0s 893us/step - loss: 0.3494 - binary_accuracy: 0.8326\n",
      "Epoch 34/120\n",
      "12/12 [==============================] - 0s 956us/step - loss: 0.3209 - binary_accuracy: 0.8590\n",
      "Epoch 35/120\n",
      "12/12 [==============================] - 0s 1ms/step - loss: 0.3157 - binary_accuracy: 0.8634\n",
      "Epoch 36/120\n",
      "12/12 [==============================] - 0s 1ms/step - loss: 0.3224 - binary_accuracy: 0.8634\n",
      "Epoch 37/120\n",
      "12/12 [==============================] - 0s 930us/step - loss: 0.3206 - binary_accuracy: 0.8590\n",
      "Epoch 38/120\n",
      "12/12 [==============================] - 0s 1ms/step - loss: 0.3162 - binary_accuracy: 0.8590\n",
      "Epoch 39/120\n",
      "12/12 [==============================] - 0s 933us/step - loss: 0.3224 - binary_accuracy: 0.8414\n",
      "Epoch 40/120\n",
      "12/12 [==============================] - 0s 1ms/step - loss: 0.3109 - binary_accuracy: 0.8634\n",
      "Epoch 41/120\n",
      "12/12 [==============================] - 0s 990us/step - loss: 0.3194 - binary_accuracy: 0.8502\n",
      "Epoch 42/120\n",
      "12/12 [==============================] - 0s 910us/step - loss: 0.3409 - binary_accuracy: 0.8546\n",
      "Epoch 43/120\n",
      "12/12 [==============================] - 0s 914us/step - loss: 0.3261 - binary_accuracy: 0.8767\n",
      "Epoch 44/120\n",
      "12/12 [==============================] - 0s 942us/step - loss: 0.3308 - binary_accuracy: 0.8414\n",
      "Epoch 45/120\n",
      "12/12 [==============================] - 0s 875us/step - loss: 0.3180 - binary_accuracy: 0.8678\n",
      "Epoch 46/120\n",
      "12/12 [==============================] - 0s 1ms/step - loss: 0.3188 - binary_accuracy: 0.8722\n",
      "Epoch 47/120\n",
      "12/12 [==============================] - 0s 1ms/step - loss: 0.3157 - binary_accuracy: 0.8722\n",
      "Epoch 48/120\n",
      "12/12 [==============================] - 0s 1ms/step - loss: 0.3363 - binary_accuracy: 0.8546\n",
      "Epoch 49/120\n",
      "12/12 [==============================] - 0s 1ms/step - loss: 0.3491 - binary_accuracy: 0.8458\n",
      "Epoch 50/120\n",
      "12/12 [==============================] - 0s 880us/step - loss: 0.3645 - binary_accuracy: 0.8326\n",
      "Epoch 51/120\n",
      "12/12 [==============================] - 0s 913us/step - loss: 0.3438 - binary_accuracy: 0.8414\n",
      "Epoch 52/120\n",
      "12/12 [==============================] - 0s 1ms/step - loss: 0.3331 - binary_accuracy: 0.8722\n",
      "Epoch 53/120\n",
      "12/12 [==============================] - 0s 874us/step - loss: 0.3247 - binary_accuracy: 0.8634\n",
      "Epoch 54/120\n",
      "12/12 [==============================] - 0s 944us/step - loss: 0.3134 - binary_accuracy: 0.8678\n",
      "Epoch 55/120\n",
      "12/12 [==============================] - 0s 1ms/step - loss: 0.3166 - binary_accuracy: 0.8634\n",
      "Epoch 56/120\n",
      "12/12 [==============================] - 0s 975us/step - loss: 0.3195 - binary_accuracy: 0.8678\n",
      "Epoch 57/120\n",
      "12/12 [==============================] - 0s 1ms/step - loss: 0.3221 - binary_accuracy: 0.8546\n",
      "Epoch 58/120\n",
      "12/12 [==============================] - 0s 890us/step - loss: 0.3375 - binary_accuracy: 0.8634\n",
      "Epoch 59/120\n",
      "12/12 [==============================] - 0s 1ms/step - loss: 0.3174 - binary_accuracy: 0.8590\n",
      "Epoch 60/120\n",
      "12/12 [==============================] - 0s 1ms/step - loss: 0.3276 - binary_accuracy: 0.8546\n",
      "Epoch 61/120\n",
      "12/12 [==============================] - 0s 984us/step - loss: 0.3151 - binary_accuracy: 0.8678\n",
      "Epoch 62/120\n",
      "12/12 [==============================] - 0s 885us/step - loss: 0.3198 - binary_accuracy: 0.8502\n",
      "Epoch 63/120\n",
      "12/12 [==============================] - 0s 946us/step - loss: 0.3215 - binary_accuracy: 0.8502\n",
      "Epoch 64/120\n",
      "12/12 [==============================] - 0s 901us/step - loss: 0.3248 - binary_accuracy: 0.8634\n",
      "Epoch 65/120\n",
      "12/12 [==============================] - 0s 929us/step - loss: 0.3242 - binary_accuracy: 0.8590\n",
      "Epoch 66/120\n",
      "12/12 [==============================] - 0s 890us/step - loss: 0.3151 - binary_accuracy: 0.8590\n",
      "Epoch 67/120\n",
      "12/12 [==============================] - 0s 958us/step - loss: 0.3186 - binary_accuracy: 0.8546\n",
      "Epoch 68/120\n",
      "12/12 [==============================] - 0s 862us/step - loss: 0.3269 - binary_accuracy: 0.8546\n",
      "Epoch 69/120\n",
      "12/12 [==============================] - 0s 888us/step - loss: 0.3318 - binary_accuracy: 0.8502\n",
      "Epoch 70/120\n",
      "12/12 [==============================] - 0s 792us/step - loss: 0.3364 - binary_accuracy: 0.8502\n",
      "Epoch 71/120\n",
      "12/12 [==============================] - 0s 952us/step - loss: 0.3434 - binary_accuracy: 0.8502\n",
      "Epoch 72/120\n",
      "12/12 [==============================] - 0s 934us/step - loss: 0.3315 - binary_accuracy: 0.8546\n",
      "Epoch 73/120\n",
      "12/12 [==============================] - 0s 1ms/step - loss: 0.3344 - binary_accuracy: 0.8590\n",
      "Epoch 74/120\n",
      "12/12 [==============================] - 0s 1ms/step - loss: 0.3147 - binary_accuracy: 0.8678\n",
      "Epoch 75/120\n",
      "12/12 [==============================] - 0s 1ms/step - loss: 0.3169 - binary_accuracy: 0.8678\n",
      "Epoch 76/120\n",
      "12/12 [==============================] - 0s 1ms/step - loss: 0.3150 - binary_accuracy: 0.8634\n",
      "Epoch 77/120\n",
      "12/12 [==============================] - 0s 926us/step - loss: 0.3124 - binary_accuracy: 0.8634\n",
      "Epoch 78/120\n",
      "12/12 [==============================] - 0s 900us/step - loss: 0.3191 - binary_accuracy: 0.8634\n",
      "Epoch 79/120\n",
      "12/12 [==============================] - 0s 877us/step - loss: 0.3150 - binary_accuracy: 0.8634\n",
      "Epoch 80/120\n",
      "12/12 [==============================] - 0s 907us/step - loss: 0.3192 - binary_accuracy: 0.8590\n",
      "Epoch 81/120\n",
      "12/12 [==============================] - 0s 857us/step - loss: 0.3186 - binary_accuracy: 0.8590\n",
      "Epoch 82/120\n",
      "12/12 [==============================] - 0s 893us/step - loss: 0.3262 - binary_accuracy: 0.8767\n",
      "Epoch 83/120\n",
      "12/12 [==============================] - 0s 824us/step - loss: 0.3153 - binary_accuracy: 0.8767\n",
      "Epoch 84/120\n",
      "12/12 [==============================] - 0s 1ms/step - loss: 0.3144 - binary_accuracy: 0.8590\n",
      "Epoch 85/120\n",
      "12/12 [==============================] - 0s 1ms/step - loss: 0.3161 - binary_accuracy: 0.8634\n",
      "Epoch 86/120\n",
      "12/12 [==============================] - 0s 1ms/step - loss: 0.3201 - binary_accuracy: 0.8678\n",
      "Epoch 87/120\n",
      "12/12 [==============================] - 0s 1ms/step - loss: 0.3181 - binary_accuracy: 0.8634\n",
      "Epoch 88/120\n",
      "12/12 [==============================] - 0s 1ms/step - loss: 0.3377 - binary_accuracy: 0.8502\n",
      "Epoch 89/120\n",
      "12/12 [==============================] - 0s 894us/step - loss: 0.3163 - binary_accuracy: 0.8678\n",
      "Epoch 90/120\n",
      "12/12 [==============================] - 0s 992us/step - loss: 0.3235 - binary_accuracy: 0.8414\n",
      "Epoch 91/120\n",
      "12/12 [==============================] - 0s 877us/step - loss: 0.3183 - binary_accuracy: 0.8546\n",
      "Epoch 92/120\n",
      "12/12 [==============================] - 0s 902us/step - loss: 0.3194 - binary_accuracy: 0.8502\n",
      "Epoch 93/120\n",
      "12/12 [==============================] - 0s 758us/step - loss: 0.3172 - binary_accuracy: 0.8678\n",
      "Epoch 94/120\n",
      "12/12 [==============================] - 0s 906us/step - loss: 0.3593 - binary_accuracy: 0.8194\n",
      "Epoch 95/120\n",
      "12/12 [==============================] - 0s 864us/step - loss: 0.3234 - binary_accuracy: 0.8458\n",
      "Epoch 96/120\n",
      "12/12 [==============================] - 0s 950us/step - loss: 0.3339 - binary_accuracy: 0.8546\n",
      "Epoch 97/120\n",
      "12/12 [==============================] - 0s 982us/step - loss: 0.3361 - binary_accuracy: 0.8546\n",
      "Epoch 98/120\n",
      "12/12 [==============================] - 0s 1ms/step - loss: 0.3217 - binary_accuracy: 0.8502\n",
      "Epoch 99/120\n",
      "12/12 [==============================] - 0s 985us/step - loss: 0.3385 - binary_accuracy: 0.8811\n",
      "Epoch 100/120\n",
      "12/12 [==============================] - 0s 1ms/step - loss: 0.3183 - binary_accuracy: 0.8546\n",
      "Epoch 101/120\n",
      "12/12 [==============================] - 0s 940us/step - loss: 0.3112 - binary_accuracy: 0.8767\n",
      "Epoch 102/120\n",
      "12/12 [==============================] - 0s 1ms/step - loss: 0.3323 - binary_accuracy: 0.8458\n",
      "Epoch 103/120\n",
      "12/12 [==============================] - 0s 813us/step - loss: 0.3210 - binary_accuracy: 0.8722\n",
      "Epoch 104/120\n",
      "12/12 [==============================] - 0s 909us/step - loss: 0.3143 - binary_accuracy: 0.8722\n",
      "Epoch 105/120\n",
      "12/12 [==============================] - 0s 917us/step - loss: 0.3144 - binary_accuracy: 0.8722\n",
      "Epoch 106/120\n",
      "12/12 [==============================] - 0s 881us/step - loss: 0.3644 - binary_accuracy: 0.8194\n",
      "Epoch 107/120\n",
      "12/12 [==============================] - 0s 990us/step - loss: 0.3293 - binary_accuracy: 0.8414\n",
      "Epoch 108/120\n",
      "12/12 [==============================] - 0s 1ms/step - loss: 0.3215 - binary_accuracy: 0.8678\n",
      "Epoch 109/120\n",
      "12/12 [==============================] - 0s 972us/step - loss: 0.3228 - binary_accuracy: 0.8546\n",
      "Epoch 110/120\n",
      "12/12 [==============================] - 0s 1ms/step - loss: 0.3141 - binary_accuracy: 0.8855\n",
      "Epoch 111/120\n",
      "12/12 [==============================] - 0s 1ms/step - loss: 0.3218 - binary_accuracy: 0.8767\n",
      "Epoch 112/120\n",
      "12/12 [==============================] - 0s 1ms/step - loss: 0.3287 - binary_accuracy: 0.8370\n",
      "Epoch 113/120\n",
      "12/12 [==============================] - 0s 968us/step - loss: 0.3138 - binary_accuracy: 0.8590\n",
      "Epoch 114/120\n",
      "12/12 [==============================] - 0s 1ms/step - loss: 0.3183 - binary_accuracy: 0.8590\n",
      "Epoch 115/120\n",
      "12/12 [==============================] - 0s 949us/step - loss: 0.3244 - binary_accuracy: 0.8678\n",
      "Epoch 116/120\n",
      "12/12 [==============================] - 0s 1ms/step - loss: 0.3191 - binary_accuracy: 0.8414\n",
      "Epoch 117/120\n",
      "12/12 [==============================] - 0s 925us/step - loss: 0.3233 - binary_accuracy: 0.8590\n",
      "Epoch 118/120\n",
      "12/12 [==============================] - 0s 816us/step - loss: 0.3201 - binary_accuracy: 0.8546\n",
      "Epoch 119/120\n",
      "12/12 [==============================] - 0s 890us/step - loss: 0.3101 - binary_accuracy: 0.8678\n",
      "Epoch 120/120\n",
      "12/12 [==============================] - 0s 929us/step - loss: 0.3168 - binary_accuracy: 0.8634\n"
     ]
    },
    {
     "data": {
      "text/plain": [
       "<tensorflow.python.keras.callbacks.History at 0x7f6290189a90>"
      ]
     },
     "execution_count": 104,
     "metadata": {},
     "output_type": "execute_result"
    }
   ],
   "source": [
    "classifier.fit(x_train, y_train, batch_size=20, epochs=120)"
   ]
  },
  {
   "cell_type": "code",
   "execution_count": 105,
   "metadata": {},
   "outputs": [],
   "source": [
    "prevision = classifier.predict(x_test)\n",
    "prevision = (prevision > 0.5)"
   ]
  },
  {
   "cell_type": "code",
   "execution_count": 106,
   "metadata": {},
   "outputs": [
    {
     "data": {
      "text/plain": [
       "array([[ True],\n",
       "       [False],\n",
       "       [False],\n",
       "       [ True],\n",
       "       [False]])"
      ]
     },
     "execution_count": 106,
     "metadata": {},
     "output_type": "execute_result"
    }
   ],
   "source": [
    "prevision[0:5]"
   ]
  },
  {
   "cell_type": "code",
   "execution_count": 107,
   "metadata": {},
   "outputs": [
    {
     "name": "stdout",
     "output_type": "stream",
     "text": [
      "3/3 [==============================] - 0s 1ms/step - loss: 0.4972 - binary_accuracy: 0.8026\n"
     ]
    }
   ],
   "source": [
    "result = classifier.evaluate(x_test, y_test)"
   ]
  },
  {
   "cell_type": "markdown",
   "metadata": {},
   "source": [
    "Precision: is the ratio TP / (TP + FP) where TP is number of true positives and FP number of false positives. The precision is intuitively the ability of the classifier to not label a sample as positive if it is negative.\n",
    "\n",
    "\n",
    "Recall: is the ratio TP / (TP + FN) where TP is the number of true positives and FN number of false negatives. The recall is intuitively the ability of the classifier to find all the positive samples.\n",
    "\n",
    "\n",
    "F-score: can be interpreted as a weighted harmonic mean of the precision and recall, where an F score reaches its best value at 1 and worst score at 0. The F score weights the recall more than the precision by a factor of beta. beta = 1.0 means recall.\n",
    "\n",
    "\n",
    "Support: is the number of occurrences of each class in y_test."
   ]
  },
  {
   "cell_type": "code",
   "execution_count": 108,
   "metadata": {},
   "outputs": [
    {
     "name": "stdout",
     "output_type": "stream",
     "text": [
      "              precision    recall  f1-score   support\n",
      "\n",
      "           0       0.80      0.78      0.79        36\n",
      "           1       0.80      0.82      0.81        40\n",
      "\n",
      "    accuracy                           0.80        76\n",
      "   macro avg       0.80      0.80      0.80        76\n",
      "weighted avg       0.80      0.80      0.80        76\n",
      "\n"
     ]
    }
   ],
   "source": [
    "print(classification_report(y_test, prevision))"
   ]
  },
  {
   "cell_type": "markdown",
   "metadata": {},
   "source": [
    "# Confusion Matrix."
   ]
  },
  {
   "cell_type": "code",
   "execution_count": 109,
   "metadata": {},
   "outputs": [],
   "source": [
    "def plot_confusion_matrix(cm, classes, normalize=False, title='Confusion matrix', cmap=plt.cm.Blues):\n",
    "    if normalize:\n",
    "        cm = cm.astype('float') / cm.sum(axis=1)[:, np.newaxis]\n",
    "        print(\"Normalized confusion matrix\")\n",
    "    else:\n",
    "        print('Confusion matrix, without normalization')\n",
    "    print(cm)\n",
    "\n",
    "    plt.imshow(cm, interpolation='nearest', cmap=cmap)\n",
    "    plt.title(title)\n",
    "    plt.colorbar()\n",
    "    tick_marks = np.arange(len(classes))\n",
    "    plt.xticks(tick_marks, classes, rotation=45)\n",
    "    plt.yticks(tick_marks, classes)\n",
    "    fmt = '.2f' if normalize else 'd'\n",
    "    thresh = cm.max() / 2.\n",
    "    for i, j in itertools.product(range(cm.shape[0]),   range(cm.shape[1])):\n",
    "        plt.text(j, i, format(cm[i, j], fmt), horizontalalignment=\"center\", color=\"white\" if cm[i, j] > thresh else \"black\")\n",
    "    plt.tight_layout()\n",
    "    plt.ylabel('True label')\n",
    "    plt.xlabel('Predicted label')"
   ]
  },
  {
   "cell_type": "code",
   "execution_count": 110,
   "metadata": {},
   "outputs": [
    {
     "name": "stdout",
     "output_type": "stream",
     "text": [
      "[[28  7]\n",
      " [ 8 33]]\n"
     ]
    }
   ],
   "source": [
    "matrix = confusion_matrix(prevision, y_test)\n",
    "print(matrix)"
   ]
  },
  {
   "cell_type": "code",
   "execution_count": 113,
   "metadata": {},
   "outputs": [
    {
     "name": "stdout",
     "output_type": "stream",
     "text": [
      "Confusion matrix, without normalization\n",
      "[[28  7]\n",
      " [ 8 33]]\n",
      "Normalized confusion matrix\n",
      "[[0.8        0.2       ]\n",
      " [0.19512195 0.80487805]]\n"
     ]
    },
    {
     "data": {
      "image/png": "[encoded data removed]",
      "text/plain": [
       "<Figure size 432x288 with 2 Axes>"
      ]
     },
     "metadata": {},
     "output_type": "display_data"
    },
    {
     "data": {
      "image/png": "[encoded data removed]",
      "text/plain": [
       "<Figure size 432x288 with 2 Axes>"
      ]
     },
     "metadata": {},
     "output_type": "display_data"
    }
   ],
   "source": [
    "class_names = ['Heart Disease', 'Not Heart Disease']\n",
    "# Plot non-normalized confusion matrix\n",
    "plt.figure()\n",
    "plot_confusion_matrix(matrix, classes=class_names, title='Confusion matrix, without normalization')\n",
    "\n",
    "#Plot normalized confusion matrix\n",
    "plt.figure()\n",
    "plot_confusion_matrix(matrix, classes=class_names, normalize=True, title='Normalized confusion matrix')\n",
    "\n",
    "plt.show()"
   ]
  },
  {
   "cell_type": "markdown",
   "metadata": {},
   "source": [
    "# Save neural network and weights"
   ]
  },
  {
   "cell_type": "code",
   "execution_count": 115,
   "metadata": {},
   "outputs": [],
   "source": [
    "# Save neural network\n",
    "classifier_json = classifier.to_json()\n",
    "\n",
    "with open('network/heart_disease_classifier.json', 'w') as json_file:\n",
    "    json_file.write(classifier_json)"
   ]
  },
  {
   "cell_type": "code",
   "execution_count": 117,
   "metadata": {},
   "outputs": [],
   "source": [
    "# Save weights\n",
    "classifier.save_weights('model/heart_disease_classifier.h5')"
   ]
  }
 ],
 "metadata": {
  "kernelspec": {
   "display_name": "Python 3",
   "language": "python",
   "name": "python3"
  },
  "language_info": {
   "codemirror_mode": {
    "name": "ipython",
    "version": 3
   },
   "file_extension": ".py",
   "mimetype": "text/x-python",
   "name": "python",
   "nbconvert_exporter": "python",
   "pygments_lexer": "ipython3",
   "version": "3.6.9"
  }
 },
 "nbformat": 4,
 "nbformat_minor": 4
}
