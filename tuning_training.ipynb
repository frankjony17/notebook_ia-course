{
 "cells": [
  {
   "cell_type": "code",
   "execution_count": null,
   "metadata": {},
   "outputs": [],
   "source": [
    "pip install --upgrade pip"
   ]
  },
  {
   "cell_type": "code",
   "execution_count": null,
   "metadata": {
    "scrolled": true
   },
   "outputs": [],
   "source": [
    "pip install pandas scikit-learn Keras tensorflow"
   ]
  },
  {
   "cell_type": "code",
   "execution_count": null,
   "metadata": {
    "scrolled": true
   },
   "outputs": [],
   "source": [
    "pip install tensorflow==2.2.0"
   ]
  },
  {
   "cell_type": "markdown",
   "metadata": {},
   "source": [
    "# Import all dependencies"
   ]
  },
  {
   "cell_type": "code",
   "execution_count": null,
   "metadata": {},
   "outputs": [],
   "source": [
    "import pandas as pd\n",
    "from keras.models import Sequential\n",
    "from keras.layers import Dense, Dropout\n",
    "from keras.wrappers.scikit_learn import KerasClassifier\n",
    "from sklearn.model_selection import GridSearchCV"
   ]
  },
  {
   "cell_type": "markdown",
   "metadata": {},
   "source": [
    "# Load datasets -> Dados e Clases"
   ]
  },
  {
   "cell_type": "code",
   "execution_count": null,
   "metadata": {},
   "outputs": [],
   "source": [
    "data_entry = pd.read_csv(\"dataset/entry_breast.csv\")\n",
    "data_class = pd.read_csv(\"dataset/exits_breast.csv\")"
   ]
  },
  {
   "cell_type": "markdown",
   "metadata": {},
   "source": [
    "# Configures the model for training"
   ]
  },
  {
   "cell_type": "code",
   "execution_count": null,
   "metadata": {},
   "outputs": [],
   "source": [
    "def create_rede(optimizer, loss, kernel_initializer, activation, neurons):\n",
    "    _classifier = Sequential()  # Sequential model.\n",
    "    # Connected NN layer (Input Layer)\n",
    "    _classifier.add(Dense(units=neurons, activation=activation, kernel_initializer=kernel_initializer, input_dim=30))\n",
    "    # Dropout\n",
    "    _classifier.add(Dropout(0.1))\n",
    "    # Hidden Layer\n",
    "    _classifier.add(Dense(units=neurons, activation=activation, kernel_initializer=kernel_initializer))\n",
    "    # Dropout\n",
    "    _classifier.add(Dropout(0.1))\n",
    "    # Hidden Layer\n",
    "    _classifier.add(Dense(units=neurons, activation=activation, kernel_initializer=kernel_initializer))\n",
    "    # Output Layer\n",
    "    _classifier.add(Dense(units=1, activation='sigmoid'))\n",
    "    # Configures the model for training\n",
    "    _classifier.compile(optimizer=optimizer, loss=loss, metrics=['binary_accuracy'])\n",
    "    return _classifier"
   ]
  },
  {
   "cell_type": "markdown",
   "metadata": {},
   "source": [
    "# Implementation of the scikit-learn classifier API for Keras"
   ]
  },
  {
   "cell_type": "code",
   "execution_count": null,
   "metadata": {},
   "outputs": [],
   "source": [
    "classifier = KerasClassifier(build_fn=create_rede)"
   ]
  },
  {
   "cell_type": "markdown",
   "metadata": {},
   "source": [
    "# Exhaustive search over specified parameter values for an estimator"
   ]
  },
  {
   "cell_type": "markdown",
   "metadata": {},
   "source": [
    "Parameters:"
   ]
  },
  {
   "cell_type": "code",
   "execution_count": null,
   "metadata": {},
   "outputs": [],
   "source": [
    "parameters = {\n",
    "    'batch_size': [5, 10, 20, 30],\n",
    "    'epochs': [50, 75, 100, 120],\n",
    "    'optimizer': ['adam', 'sgd'],\n",
    "    'loss': ['binary_crossentropy', 'hinge'],\n",
    "    'kernel_initializer': ['random_uniform', 'normal'],\n",
    "    'activation': ['relu', 'tanh'],\n",
    "    'neurons': [8, 16, 24, 32]\n",
    "}\n",
    "# cv = cross-validation generator\n",
    "grid_search = GridSearchCV(estimator=classifier, param_grid=parameters, scoring='accuracy', cv=5)"
   ]
  },
  {
   "cell_type": "markdown",
   "metadata": {},
   "source": [
    "Run fit with all sets of parameters"
   ]
  },
  {
   "cell_type": "code",
   "execution_count": null,
   "metadata": {
    "scrolled": true
   },
   "outputs": [],
   "source": [
    "grid_search_fit = grid_search.fit(data_entry, data_class)"
   ]
  },
  {
   "cell_type": "code",
   "execution_count": 18,
   "metadata": {},
   "outputs": [],
   "source": [
    "best_parameters = grid_search_fit.best_params_\n",
    "better_accuracy = grid_search_fit.best_score_"
   ]
  },
  {
   "cell_type": "code",
   "execution_count": 19,
   "metadata": {},
   "outputs": [
    {
     "name": "stdout",
     "output_type": "stream",
     "text": [
      "{'activation': 'relu', 'batch_size': 20, 'epochs': 120, 'kernel_initializer': 'random_uniform', 'loss': 'binary_crossentropy', 'neurons': 16, 'optimizer': 'adam'}\n",
      "0.9156652693681104\n"
     ]
    }
   ],
   "source": [
    "print(best_parameters)\n",
    "print(better_accuracy)"
   ]
  },
  {
   "cell_type": "markdown",
   "metadata": {},
   "source": [
    "{\n",
    "    'activation': 'relu', \n",
    "    'batch_size': 20, \n",
    "    'epochs': 120, \n",
    "    'kernel_initializer': 'random_uniform',\n",
    "    'loss': 'binary_crossentropy',\n",
    "    'neurons': 16,\n",
    "    'optimizer': 'adam'\n",
    "}\n",
    "\n",
    "0.9156652693681104"
   ]
  }
 ],
 "metadata": {
  "kernelspec": {
   "display_name": "Python 3",
   "language": "python",
   "name": "python3"
  },
  "language_info": {
   "codemirror_mode": {
    "name": "ipython",
    "version": 3
   },
   "file_extension": ".py",
   "mimetype": "text/x-python",
   "name": "python",
   "nbconvert_exporter": "python",
   "pygments_lexer": "ipython3",
   "version": "3.6.9"
  }
 },
 "nbformat": 4,
 "nbformat_minor": 4
}
